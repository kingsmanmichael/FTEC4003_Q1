{
 "cells": [
  {
   "cell_type": "code",
   "execution_count": 1,
   "metadata": {},
   "outputs": [],
   "source": [
    "import pandas as pd\n",
    "from sklearn.tree import DecisionTreeClassifier \n",
    "from sklearn.model_selection import train_test_split \n",
    "from sklearn import metrics, preprocessing"
   ]
  },
  {
   "cell_type": "code",
   "execution_count": 2,
   "metadata": {},
   "outputs": [
    {
     "name": "stderr",
     "output_type": "stream",
     "text": [
      "/Users/kingsman/opt/anaconda3/lib/python3.7/site-packages/IPython/core/interactiveshell.py:3058: DtypeWarning: Columns (0,10,11,12,14,15,16,17,18) have mixed types. Specify dtype option on import or set low_memory=False.\n",
      "  interactivity=interactivity, compiler=compiler, result=result)\n"
     ]
    }
   ],
   "source": [
    "train = pd.read_csv(\"bank-train.csv\", header=None, sep=';')\n",
    "train_headers = train.iloc[0]\n",
    "train_df = pd.DataFrame(train.values[1:], columns=train_headers)\n",
    "\n",
    "\n",
    "le = preprocessing.LabelEncoder()\n",
    "le.fit(['admin.', 'blue-collar', 'entrepreneur', 'housemaid', 'management', 'retired', 'self-employed', 'services',\n",
    "        'student', 'technician', 'unemployed', 'unknown'])\n",
    "train_df['job'] = le.transform(train_df['job'])\n",
    "\n",
    "le = preprocessing.LabelEncoder()\n",
    "le.fit(['divorced', 'married', 'single', 'housemaid', 'unknown', 'retired'])\n",
    "train_df['marital'] = le.transform(train_df['marital'])\n",
    "\n",
    "le = preprocessing.LabelEncoder()\n",
    "le.fit(['basic.4y', 'basic.6y', 'basic.9y', 'high.school', 'illiterate', 'professional.course', 'university.degree',\n",
    "        'unknown'])\n",
    "train_df['education'] = le.transform(train_df['education'])\n",
    "\n",
    "le = preprocessing.LabelEncoder()\n",
    "le.fit(['no', 'unknown', 'yes'])\n",
    "train_df['default'] = le.transform(train_df['default'])\n",
    "\n",
    "le = preprocessing.LabelEncoder()\n",
    "le.fit(['no', 'unknown', 'yes'])\n",
    "train_df['housing'] = le.transform(train_df['housing'])\n",
    "\n",
    "le = preprocessing.LabelEncoder()\n",
    "le.fit(['no', 'unknown', 'yes'])\n",
    "train_df['loan'] = le.transform(train_df['loan'])\n",
    "\n",
    "le = preprocessing.LabelEncoder()\n",
    "le.fit(['cellular', 'telephone'])\n",
    "train_df['contact'] = le.transform(train_df['contact'])\n",
    "\n",
    "le = preprocessing.LabelEncoder()\n",
    "le.fit(['mar', 'apr', 'may', 'jun', 'jul', 'aug', 'sep', 'oct', 'nov', 'dec'])\n",
    "train_df['month'] = le.transform(train_df['month'])\n",
    "\n",
    "le = preprocessing.LabelEncoder()\n",
    "le.fit(['mon', 'tue', 'wed', 'thu', 'fri'])\n",
    "train_df['day_of_week'] = le.transform(train_df['day_of_week'])\n",
    "\n",
    "le = preprocessing.LabelEncoder()\n",
    "le.fit(['failure', 'nonexistent', 'success'])\n",
    "train_df['poutcome'] = le.transform(train_df['poutcome'])\n",
    "\n",
    "for col in train_df.columns:\n",
    "    if col == 'y':\n",
    "        continue\n",
    "    train_df[col] = pd.to_numeric(train_df[col])"
   ]
  },
  {
   "cell_type": "code",
   "execution_count": 4,
   "metadata": {},
   "outputs": [
    {
     "data": {
      "text/plain": [
       "0\n",
       "age                109.039215\n",
       "job                 12.957768\n",
       "default              0.165483\n",
       "campaign             7.730465\n",
       "pdays            34921.458494\n",
       "emp.var.rate         2.465393\n",
       "cons.conf.idx       21.392348\n",
       "nr.employed       5231.519236\n",
       "dtype: float64"
      ]
     },
     "execution_count": 4,
     "metadata": {},
     "output_type": "execute_result"
    }
   ],
   "source": [
    "# feature_cols = ['age', 'job', 'marital', 'education', 'default', 'housing', 'loan', 'contact', 'month',\n",
    "#                 'day_of_week', 'campaign', 'pdays', 'previous', 'poutcome', 'emp.var.rate', 'cons.price.idx',\n",
    "#                 'cons.conf.idx', 'euribor3m', 'nr.employed']\n",
    "feature_cols = ['age', 'job', 'default', 'campaign', 'pdays', \n",
    "                'emp.var.rate', 'cons.conf.idx', 'nr.employed']\n",
    "train_df[feature_cols].var()"
   ]
  },
  {
   "cell_type": "code",
   "execution_count": 5,
   "metadata": {},
   "outputs": [],
   "source": [
    "X = train_df[feature_cols]\n",
    "# X = train_df.iloc[:, :19]\n",
    "y = train_df.y\n",
    "\n",
    "X_train, X_test, y_train, y_test = train_test_split(X, y, test_size=0.01, random_state=1)\n"
   ]
  },
  {
   "cell_type": "code",
   "execution_count": 6,
   "metadata": {},
   "outputs": [],
   "source": [
    "# y_test1 = y_test.sort_index(ascending=1)\n",
    "# y_test1.to_csv(r'decision_tree_y.csv')"
   ]
  },
  {
   "cell_type": "code",
   "execution_count": 7,
   "metadata": {},
   "outputs": [
    {
     "name": "stdout",
     "output_type": "stream",
     "text": [
      "Accuracy: 0.8787878787878788\n",
      "              precision    recall  f1-score   support\n",
      "\n",
      "          no       0.92      0.95      0.93       294\n",
      "         yes       0.42      0.28      0.33        36\n",
      "\n",
      "    accuracy                           0.88       330\n",
      "   macro avg       0.67      0.62      0.63       330\n",
      "weighted avg       0.86      0.88      0.87       330\n",
      "\n"
     ]
    }
   ],
   "source": [
    "# Create Decision Tree classifer object\n",
    "dtc = DecisionTreeClassifier(criterion = \"gini\")\n",
    "\n",
    "# Train Decision Tree Classifer\n",
    "dtc = dtc.fit(X_train,y_train)\n",
    "\n",
    "# Predict the response for test dataset\n",
    "y_pred = dtc.predict(X_test)\n",
    "\n",
    "print(\"Accuracy:\",metrics.accuracy_score(y_test, y_pred))\n",
    "print(metrics.classification_report(y_test, y_pred))"
   ]
  },
  {
   "cell_type": "code",
   "execution_count": 8,
   "metadata": {},
   "outputs": [],
   "source": [
    "train_result = pd.DataFrame(y_pred.tolist(), columns=['Label'])\n",
    "train_result.index.name = 'ID'\n",
    "train_result.index = X_test.index\n",
    "train_result1 = train_result.sort_index(ascending=1)\n",
    "# train_result1.to_csv(r'decision_tree_result_train.csv')"
   ]
  },
  {
   "cell_type": "code",
   "execution_count": 9,
   "metadata": {},
   "outputs": [],
   "source": [
    "test = pd.read_csv(\"bank-test.csv\", header=None, sep=';')\n",
    "test_headers = test.iloc[0]\n",
    "test_df = pd.DataFrame(test.values[1:], columns=test_headers)\n",
    "\n",
    "le = preprocessing.LabelEncoder()\n",
    "le.fit(['admin.', 'blue-collar', 'entrepreneur', 'housemaid', 'management', 'retired', 'self-employed', 'services',\n",
    "        'student', 'technician', 'unemployed', 'unknown'])\n",
    "test_df['job'] = le.transform(test_df['job'])\n",
    "\n",
    "le = preprocessing.LabelEncoder()\n",
    "le.fit(['divorced', 'married', 'single', 'housemaid', 'unknown', 'retired'])\n",
    "test_df['marital'] = le.transform(test_df['marital'])\n",
    "\n",
    "le = preprocessing.LabelEncoder()\n",
    "le.fit(['basic.4y', 'basic.6y', 'basic.9y', 'high.school', 'illiterate', 'professional.course', 'university.degree',\n",
    "        'unknown'])\n",
    "test_df['education'] = le.transform(test_df['education'])\n",
    "\n",
    "le = preprocessing.LabelEncoder()\n",
    "le.fit(['no', 'unknown', 'yes'])\n",
    "test_df['default'] = le.transform(test_df['default'])\n",
    "\n",
    "le = preprocessing.LabelEncoder()\n",
    "le.fit(['no', 'unknown', 'yes'])\n",
    "test_df['housing'] = le.transform(test_df['housing'])\n",
    "\n",
    "le = preprocessing.LabelEncoder()\n",
    "le.fit(['no', 'unknown', 'yes'])\n",
    "test_df['loan'] = le.transform(test_df['loan'])\n",
    "\n",
    "le = preprocessing.LabelEncoder()\n",
    "le.fit(['cellular', 'telephone'])\n",
    "test_df['contact'] = le.transform(test_df['contact'])\n",
    "\n",
    "le = preprocessing.LabelEncoder()\n",
    "le.fit(['mar', 'apr', 'may', 'jun', 'jul', 'aug', 'sep', 'oct', 'nov', 'dec'])\n",
    "test_df['month'] = le.transform(test_df['month'])\n",
    "\n",
    "le = preprocessing.LabelEncoder()\n",
    "le.fit(['mon', 'tue', 'wed', 'thu', 'fri'])\n",
    "test_df['day_of_week'] = le.transform(test_df['day_of_week'])\n",
    "\n",
    "le = preprocessing.LabelEncoder()\n",
    "le.fit(['failure', 'nonexistent', 'success'])\n",
    "test_df['poutcome'] = le.transform(test_df['poutcome'])"
   ]
  },
  {
   "cell_type": "code",
   "execution_count": 10,
   "metadata": {},
   "outputs": [],
   "source": [
    "test_pred = dtc.predict(test_df[feature_cols])\n",
    "# test_pred = dtc.predict(test_df)\n",
    "test_result = pd.DataFrame(test_pred.tolist(), columns=['Label'])\n",
    "test_result.index.name = 'ID'"
   ]
  },
  {
   "cell_type": "code",
   "execution_count": 11,
   "metadata": {},
   "outputs": [
    {
     "data": {
      "text/html": [
       "<div>\n",
       "<style scoped>\n",
       "    .dataframe tbody tr th:only-of-type {\n",
       "        vertical-align: middle;\n",
       "    }\n",
       "\n",
       "    .dataframe tbody tr th {\n",
       "        vertical-align: top;\n",
       "    }\n",
       "\n",
       "    .dataframe thead th {\n",
       "        text-align: right;\n",
       "    }\n",
       "</style>\n",
       "<table border=\"1\" class=\"dataframe\">\n",
       "  <thead>\n",
       "    <tr style=\"text-align: right;\">\n",
       "      <th></th>\n",
       "      <th>Label</th>\n",
       "    </tr>\n",
       "    <tr>\n",
       "      <th>ID</th>\n",
       "      <th></th>\n",
       "    </tr>\n",
       "  </thead>\n",
       "  <tbody>\n",
       "    <tr>\n",
       "      <td>0</td>\n",
       "      <td>no</td>\n",
       "    </tr>\n",
       "    <tr>\n",
       "      <td>1</td>\n",
       "      <td>no</td>\n",
       "    </tr>\n",
       "    <tr>\n",
       "      <td>2</td>\n",
       "      <td>no</td>\n",
       "    </tr>\n",
       "    <tr>\n",
       "      <td>3</td>\n",
       "      <td>no</td>\n",
       "    </tr>\n",
       "    <tr>\n",
       "      <td>4</td>\n",
       "      <td>no</td>\n",
       "    </tr>\n",
       "    <tr>\n",
       "      <td>...</td>\n",
       "      <td>...</td>\n",
       "    </tr>\n",
       "    <tr>\n",
       "      <td>8241</td>\n",
       "      <td>yes</td>\n",
       "    </tr>\n",
       "    <tr>\n",
       "      <td>8242</td>\n",
       "      <td>no</td>\n",
       "    </tr>\n",
       "    <tr>\n",
       "      <td>8243</td>\n",
       "      <td>yes</td>\n",
       "    </tr>\n",
       "    <tr>\n",
       "      <td>8244</td>\n",
       "      <td>yes</td>\n",
       "    </tr>\n",
       "    <tr>\n",
       "      <td>8245</td>\n",
       "      <td>no</td>\n",
       "    </tr>\n",
       "  </tbody>\n",
       "</table>\n",
       "<p>8246 rows × 1 columns</p>\n",
       "</div>"
      ],
      "text/plain": [
       "     Label\n",
       "ID        \n",
       "0       no\n",
       "1       no\n",
       "2       no\n",
       "3       no\n",
       "4       no\n",
       "...    ...\n",
       "8241   yes\n",
       "8242    no\n",
       "8243   yes\n",
       "8244   yes\n",
       "8245    no\n",
       "\n",
       "[8246 rows x 1 columns]"
      ]
     },
     "execution_count": 11,
     "metadata": {},
     "output_type": "execute_result"
    }
   ],
   "source": [
    "test_result"
   ]
  },
  {
   "cell_type": "code",
   "execution_count": 12,
   "metadata": {},
   "outputs": [],
   "source": [
    "test_result.to_csv(r'decision_tree_result.csv')"
   ]
  },
  {
   "cell_type": "code",
   "execution_count": null,
   "metadata": {},
   "outputs": [],
   "source": []
  }
 ],
 "metadata": {
  "kernelspec": {
   "display_name": "Python 3",
   "language": "python",
   "name": "python3"
  },
  "language_info": {
   "codemirror_mode": {
    "name": "ipython",
    "version": 3
   },
   "file_extension": ".py",
   "mimetype": "text/x-python",
   "name": "python",
   "nbconvert_exporter": "python",
   "pygments_lexer": "ipython3",
   "version": "3.7.4"
  }
 },
 "nbformat": 4,
 "nbformat_minor": 2
}
