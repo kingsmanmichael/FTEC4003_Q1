{
 "cells": [
  {
   "cell_type": "code",
   "execution_count": null,
   "metadata": {},
   "outputs": [],
   "source": [
    "import pandas as pd\n",
    "from sklearn.tree import DecisionTreeClassifier \n",
    "from sklearn import preprocessing"
   ]
  },
  {
   "cell_type": "code",
   "execution_count": 2,
   "metadata": {},
   "outputs": [
    {
     "name": "stderr",
     "output_type": "stream",
     "text": [
      "/Users/kingsman/opt/anaconda3/lib/python3.7/site-packages/IPython/core/interactiveshell.py:3058: DtypeWarning: Columns (0,10,11,12,14,15,16,17,18) have mixed types. Specify dtype option on import or set low_memory=False.\n",
      "  interactivity=interactivity, compiler=compiler, result=result)\n"
     ]
    }
   ],
   "source": [
    "train = pd.read_csv(\"bank-train.csv\", header=None, sep=';')\n",
    "train_headers = train.iloc[0]\n",
    "train_df = pd.DataFrame(train.values[1:], columns=train_headers)\n",
    "\n",
    "le = preprocessing.LabelEncoder()\n",
    "le.fit(['admin.', 'blue-collar', 'entrepreneur', 'housemaid', 'management', 'retired', 'self-employed', 'services',\n",
    "        'student', 'technician', 'unemployed', 'unknown'])\n",
    "train_df['job'] = le.transform(train_df['job'])\n",
    "\n",
    "le = preprocessing.LabelEncoder()\n",
    "le.fit(['divorced', 'married', 'single', 'housemaid', 'unknown', 'retired'])\n",
    "train_df['marital'] = le.transform(train_df['marital'])\n",
    "\n",
    "le = preprocessing.LabelEncoder()\n",
    "le.fit(['basic.4y', 'basic.6y', 'basic.9y', 'high.school', 'illiterate', 'professional.course', 'university.degree',\n",
    "        'unknown'])\n",
    "train_df['education'] = le.transform(train_df['education'])\n",
    "\n",
    "le = preprocessing.LabelEncoder()\n",
    "le.fit(['no', 'unknown', 'yes'])\n",
    "train_df['default'] = le.transform(train_df['default'])\n",
    "\n",
    "le = preprocessing.LabelEncoder()\n",
    "le.fit(['no', 'unknown', 'yes'])\n",
    "train_df['housing'] = le.transform(train_df['housing'])\n",
    "\n",
    "le = preprocessing.LabelEncoder()\n",
    "le.fit(['no', 'unknown', 'yes'])\n",
    "train_df['loan'] = le.transform(train_df['loan'])\n",
    "\n",
    "le = preprocessing.LabelEncoder()\n",
    "le.fit(['cellular', 'telephone'])\n",
    "train_df['contact'] = le.transform(train_df['contact'])\n",
    "\n",
    "le = preprocessing.LabelEncoder()\n",
    "le.fit(['mar', 'apr', 'may', 'jun', 'jul', 'aug', 'sep', 'oct', 'nov', 'dec'])\n",
    "train_df['month'] = le.transform(train_df['month'])\n",
    "\n",
    "le = preprocessing.LabelEncoder()\n",
    "le.fit(['mon', 'tue', 'wed', 'thu', 'fri'])\n",
    "train_df['day_of_week'] = le.transform(train_df['day_of_week'])\n",
    "\n",
    "le = preprocessing.LabelEncoder()\n",
    "le.fit(['failure', 'nonexistent', 'success'])\n",
    "train_df['poutcome'] = le.transform(train_df['poutcome'])\n",
    "\n",
    "for col in train_df.columns:\n",
    "    if col == 'y':\n",
    "        continue\n",
    "    train_df[col] = pd.to_numeric(train_df[col])"
   ]
  },
  {
   "cell_type": "code",
   "execution_count": 1,
   "metadata": {},
   "outputs": [],
   "source": [
    "# feature_cols = ['age', 'job', 'marital', 'education', 'default', 'housing', 'loan', 'contact', 'month',\n",
    "#                 'day_of_week', 'campaign', 'pdays', 'previous', 'poutcome', 'emp.var.rate', 'cons.price.idx',\n",
    "#                 'cons.conf.idx', 'euribor3m', 'nr.employed']\n",
    "# feature_cols = ['age', 'job', 'default', 'campaign', 'pdays', \n",
    "#                 'emp.var.rate', 'cons.conf.idx', 'nr.employed']\n",
    "\n",
    "feature_cols = ['age', 'job', 'campaign', 'education', 'euribor3m',  \n",
    "                'marital', 'day_of_week', 'nr.employed']\n",
    "# train_df[feature_cols].var()"
   ]
  },
  {
   "cell_type": "code",
   "execution_count": 4,
   "metadata": {},
   "outputs": [],
   "source": [
    "X = train_df[feature_cols]\n",
    "y = train_df.y"
   ]
  },
  {
   "cell_type": "code",
   "execution_count": 5,
   "metadata": {},
   "outputs": [],
   "source": [
    "dtc = DecisionTreeClassifier(criterion = \"gini\")\n",
    "dtc = dtc.fit(X,y)"
   ]
  },
  {
   "cell_type": "code",
   "execution_count": 6,
   "metadata": {},
   "outputs": [],
   "source": [
    "test = pd.read_csv(\"bank-test.csv\", header=None, sep=';')\n",
    "test_headers = test.iloc[0]\n",
    "test_df = pd.DataFrame(test.values[1:], columns=test_headers)\n",
    "\n",
    "le = preprocessing.LabelEncoder()\n",
    "le.fit(['admin.', 'blue-collar', 'entrepreneur', 'housemaid', 'management', 'retired', 'self-employed', 'services',\n",
    "        'student', 'technician', 'unemployed', 'unknown'])\n",
    "test_df['job'] = le.transform(test_df['job'])\n",
    "\n",
    "le = preprocessing.LabelEncoder()\n",
    "le.fit(['divorced', 'married', 'single', 'housemaid', 'unknown', 'retired'])\n",
    "test_df['marital'] = le.transform(test_df['marital'])\n",
    "\n",
    "le = preprocessing.LabelEncoder()\n",
    "le.fit(['basic.4y', 'basic.6y', 'basic.9y', 'high.school', 'illiterate', 'professional.course', 'university.degree',\n",
    "        'unknown'])\n",
    "test_df['education'] = le.transform(test_df['education'])\n",
    "\n",
    "le = preprocessing.LabelEncoder()\n",
    "le.fit(['no', 'unknown', 'yes'])\n",
    "test_df['default'] = le.transform(test_df['default'])\n",
    "\n",
    "le = preprocessing.LabelEncoder()\n",
    "le.fit(['no', 'unknown', 'yes'])\n",
    "test_df['housing'] = le.transform(test_df['housing'])\n",
    "\n",
    "le = preprocessing.LabelEncoder()\n",
    "le.fit(['no', 'unknown', 'yes'])\n",
    "test_df['loan'] = le.transform(test_df['loan'])\n",
    "\n",
    "le = preprocessing.LabelEncoder()\n",
    "le.fit(['cellular', 'telephone'])\n",
    "test_df['contact'] = le.transform(test_df['contact'])\n",
    "\n",
    "le = preprocessing.LabelEncoder()\n",
    "le.fit(['mar', 'apr', 'may', 'jun', 'jul', 'aug', 'sep', 'oct', 'nov', 'dec'])\n",
    "test_df['month'] = le.transform(test_df['month'])\n",
    "\n",
    "le = preprocessing.LabelEncoder()\n",
    "le.fit(['mon', 'tue', 'wed', 'thu', 'fri'])\n",
    "test_df['day_of_week'] = le.transform(test_df['day_of_week'])\n",
    "\n",
    "le = preprocessing.LabelEncoder()\n",
    "le.fit(['failure', 'nonexistent', 'success'])\n",
    "test_df['poutcome'] = le.transform(test_df['poutcome'])"
   ]
  },
  {
   "cell_type": "code",
   "execution_count": 7,
   "metadata": {},
   "outputs": [],
   "source": [
    "test_pred = dtc.predict(test_df[feature_cols])\n",
    "test_result = pd.DataFrame(test_pred.tolist(), columns=['Label'])\n",
    "test_result.index.name = 'ID'\n",
    "test_result.to_csv(r'submission1_decision_tree.csv')"
   ]
  },
  {
   "cell_type": "code",
   "execution_count": null,
   "metadata": {},
   "outputs": [],
   "source": []
  }
 ],
 "metadata": {
  "kernelspec": {
   "display_name": "Python 3",
   "language": "python",
   "name": "python3"
  },
  "language_info": {
   "codemirror_mode": {
    "name": "ipython",
    "version": 3
   },
   "file_extension": ".py",
   "mimetype": "text/x-python",
   "name": "python",
   "nbconvert_exporter": "python",
   "pygments_lexer": "ipython3",
   "version": "3.7.4"
  }
 },
 "nbformat": 4,
 "nbformat_minor": 2
}
